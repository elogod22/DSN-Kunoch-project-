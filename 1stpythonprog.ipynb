{
 "cells": [
  {
   "cell_type": "markdown",
   "id": "63e51d30-5b48-4b91-9ae0-6e9c1c8b8243",
   "metadata": {},
   "source": [
    "## Importing Data"
   ]
  },
  {
   "cell_type": "code",
   "execution_count": 1,
   "id": "55f3a170-c5a4-4bcc-b620-93ee4bd1fe8c",
   "metadata": {
    "tags": []
   },
   "outputs": [],
   "source": [
    "   import numpy as np\n",
    "   import pandas as pd\n",
    "   import matplotlib.pyplot as pit\n",
    "   import seaborn as sns; sns.set()\n",
    "   import warnings\n",
    "   warnings.filterwarnings(\"ignore\")"
   ]
  },
  {
   "cell_type": "markdown",
   "id": "6c366b49-7951-4ae2-9985-ea44fb476472",
   "metadata": {},
   "source": [
    "## Loading data"
   ]
  },
  {
   "cell_type": "code",
   "execution_count": 2,
   "id": "619c7eb4-b5c2-456d-a4b5-acb5f59338cc",
   "metadata": {
    "tags": []
   },
   "outputs": [
    {
     "data": {
      "text/html": [
       "<div>\n",
       "<style scoped>\n",
       "    .dataframe tbody tr th:only-of-type {\n",
       "        vertical-align: middle;\n",
       "    }\n",
       "\n",
       "    .dataframe tbody tr th {\n",
       "        vertical-align: top;\n",
       "    }\n",
       "\n",
       "    .dataframe thead th {\n",
       "        text-align: right;\n",
       "    }\n",
       "</style>\n",
       "<table border=\"1\" class=\"dataframe\">\n",
       "  <thead>\n",
       "    <tr style=\"text-align: right;\">\n",
       "      <th></th>\n",
       "      <th>VehicleID</th>\n",
       "      <th>Location</th>\n",
       "      <th>Maker</th>\n",
       "      <th>Model</th>\n",
       "      <th>Year</th>\n",
       "      <th>Colour</th>\n",
       "      <th>Amount (Million Naira)</th>\n",
       "      <th>Type</th>\n",
       "      <th>Distance</th>\n",
       "    </tr>\n",
       "  </thead>\n",
       "  <tbody>\n",
       "    <tr>\n",
       "      <th>2930</th>\n",
       "      <td>VHL14011</td>\n",
       "      <td>Abuja</td>\n",
       "      <td>Acura</td>\n",
       "      <td>TL</td>\n",
       "      <td>2,009</td>\n",
       "      <td>Black</td>\n",
       "      <td>3.94</td>\n",
       "      <td>Nigerian Used</td>\n",
       "      <td>10,351</td>\n",
       "    </tr>\n",
       "    <tr>\n",
       "      <th>1420</th>\n",
       "      <td>VHL17905</td>\n",
       "      <td>Lagos</td>\n",
       "      <td>Kia</td>\n",
       "      <td>Cerato</td>\n",
       "      <td>2,011</td>\n",
       "      <td>Gray</td>\n",
       "      <td>1.46</td>\n",
       "      <td>Brand New</td>\n",
       "      <td>102,387</td>\n",
       "    </tr>\n",
       "    <tr>\n",
       "      <th>5840</th>\n",
       "      <td>VHL18444</td>\n",
       "      <td>Lagos</td>\n",
       "      <td>Mercedes-Benz</td>\n",
       "      <td>M Class</td>\n",
       "      <td>2,014</td>\n",
       "      <td>Black</td>\n",
       "      <td>12.80</td>\n",
       "      <td>Foreign Used</td>\n",
       "      <td>84,570</td>\n",
       "    </tr>\n",
       "    <tr>\n",
       "      <th>1895</th>\n",
       "      <td>VHL17160</td>\n",
       "      <td>Lagos</td>\n",
       "      <td>Toyota</td>\n",
       "      <td>Highlander XLE 4x4 V6 (3.5L 6cyl 8A)</td>\n",
       "      <td>2,018</td>\n",
       "      <td>Gray</td>\n",
       "      <td>15.00</td>\n",
       "      <td>Foreign Used</td>\n",
       "      <td>63,000</td>\n",
       "    </tr>\n",
       "    <tr>\n",
       "      <th>529</th>\n",
       "      <td>VHL14595</td>\n",
       "      <td>Abuja</td>\n",
       "      <td>Mercedes-Benz</td>\n",
       "      <td>GLK-Class 350 4MATIC</td>\n",
       "      <td>2,012</td>\n",
       "      <td>Black</td>\n",
       "      <td>7.35</td>\n",
       "      <td>Foreign Used</td>\n",
       "      <td>NaN</td>\n",
       "    </tr>\n",
       "    <tr>\n",
       "      <th>2518</th>\n",
       "      <td>VHL18524</td>\n",
       "      <td>Abuja</td>\n",
       "      <td>Hyundai</td>\n",
       "      <td>Genesis 5 RWD</td>\n",
       "      <td>2,016</td>\n",
       "      <td>Black</td>\n",
       "      <td>27.00</td>\n",
       "      <td>Foreign Used</td>\n",
       "      <td>69,000</td>\n",
       "    </tr>\n",
       "    <tr>\n",
       "      <th>1272</th>\n",
       "      <td>VHL17293</td>\n",
       "      <td>Lagos</td>\n",
       "      <td>BMW</td>\n",
       "      <td>523i</td>\n",
       "      <td>2,006</td>\n",
       "      <td>Brown</td>\n",
       "      <td>2.81</td>\n",
       "      <td>Nigerian Used</td>\n",
       "      <td>291,386</td>\n",
       "    </tr>\n",
       "    <tr>\n",
       "      <th>5301</th>\n",
       "      <td>VHL12691</td>\n",
       "      <td>Abuja</td>\n",
       "      <td>Acura</td>\n",
       "      <td>MDX</td>\n",
       "      <td>2,015</td>\n",
       "      <td>Black</td>\n",
       "      <td>6.50</td>\n",
       "      <td>Foreign Used</td>\n",
       "      <td>38,000</td>\n",
       "    </tr>\n",
       "    <tr>\n",
       "      <th>2171</th>\n",
       "      <td>VHL10114</td>\n",
       "      <td>Lagos</td>\n",
       "      <td>Toyota</td>\n",
       "      <td>Camry XLE V6 FWD</td>\n",
       "      <td>2,020</td>\n",
       "      <td>Black</td>\n",
       "      <td>28.50</td>\n",
       "      <td>Brand New</td>\n",
       "      <td>NaN</td>\n",
       "    </tr>\n",
       "    <tr>\n",
       "      <th>415</th>\n",
       "      <td>VHL15466</td>\n",
       "      <td>Ibadan</td>\n",
       "      <td>Toyota</td>\n",
       "      <td>Corolla</td>\n",
       "      <td>2,003</td>\n",
       "      <td>Gold</td>\n",
       "      <td>1.15</td>\n",
       "      <td>Nigerian Used</td>\n",
       "      <td>99,000</td>\n",
       "    </tr>\n",
       "  </tbody>\n",
       "</table>\n",
       "</div>"
      ],
      "text/plain": [
       "     VehicleID Location          Maker                                 Model  \\\n",
       "2930  VHL14011    Abuja          Acura                                    TL   \n",
       "1420  VHL17905    Lagos            Kia                                Cerato   \n",
       "5840  VHL18444    Lagos  Mercedes-Benz                               M Class   \n",
       "1895  VHL17160    Lagos         Toyota  Highlander XLE 4x4 V6 (3.5L 6cyl 8A)   \n",
       "529   VHL14595    Abuja  Mercedes-Benz                  GLK-Class 350 4MATIC   \n",
       "2518  VHL18524    Abuja        Hyundai                         Genesis 5 RWD   \n",
       "1272  VHL17293    Lagos            BMW                                  523i   \n",
       "5301  VHL12691    Abuja          Acura                                   MDX   \n",
       "2171  VHL10114    Lagos         Toyota                      Camry XLE V6 FWD   \n",
       "415   VHL15466   Ibadan         Toyota                               Corolla   \n",
       "\n",
       "       Year Colour  Amount (Million Naira)           Type Distance  \n",
       "2930  2,009  Black                    3.94  Nigerian Used   10,351  \n",
       "1420  2,011   Gray                    1.46      Brand New  102,387  \n",
       "5840  2,014  Black                   12.80   Foreign Used   84,570  \n",
       "1895  2,018   Gray                   15.00   Foreign Used   63,000  \n",
       "529   2,012  Black                    7.35   Foreign Used      NaN  \n",
       "2518  2,016  Black                   27.00   Foreign Used   69,000  \n",
       "1272  2,006  Brown                    2.81  Nigerian Used  291,386  \n",
       "5301  2,015  Black                    6.50   Foreign Used   38,000  \n",
       "2171  2,020  Black                   28.50      Brand New      NaN  \n",
       "415   2,003   Gold                    1.15  Nigerian Used   99,000  "
      ]
     },
     "execution_count": 2,
     "metadata": {},
     "output_type": "execute_result"
    }
   ],
   "source": [
    "train = pd.read_csv('Train (2).csv')\n",
    "train.sample(10)"
   ]
  },
  {
   "cell_type": "code",
   "execution_count": 3,
   "id": "3372878e-ea01-4aec-b409-10c043f9e6b1",
   "metadata": {},
   "outputs": [
    {
     "data": {
      "text/plain": [
       "(7205, 9)"
      ]
     },
     "execution_count": 3,
     "metadata": {},
     "output_type": "execute_result"
    }
   ],
   "source": [
    "train.shape"
   ]
  },
  {
   "cell_type": "code",
   "execution_count": 4,
   "id": "72693e6e-fcc8-4039-be2a-1df8c4705327",
   "metadata": {
    "tags": []
   },
   "outputs": [
    {
     "name": "stdout",
     "output_type": "stream",
     "text": [
      "We have 7205 rows, and 9 columns\n"
     ]
    }
   ],
   "source": [
    "rows, columns = train.shape\n",
    "print(f'We have {rows} rows, and {columns} columns')"
   ]
  },
  {
   "cell_type": "code",
   "execution_count": 5,
   "id": "7b510586-e420-4047-9928-87208d0ecc06",
   "metadata": {
    "tags": []
   },
   "outputs": [
    {
     "data": {
      "text/plain": [
       "VehicleID                    0\n",
       "Location                     0\n",
       "Maker                        0\n",
       "Model                        0\n",
       "Year                        21\n",
       "Colour                       0\n",
       "Amount (Million Naira)      17\n",
       "Type                       197\n",
       "Distance                  2360\n",
       "dtype: int64"
      ]
     },
     "execution_count": 5,
     "metadata": {},
     "output_type": "execute_result"
    }
   ],
   "source": [
    "train.isna().sum()"
   ]
  },
  {
   "cell_type": "code",
   "execution_count": 6,
   "id": "940e701d-1820-4631-8dbb-134b67ca0e81",
   "metadata": {
    "tags": []
   },
   "outputs": [
    {
     "data": {
      "text/html": [
       "<div>\n",
       "<style scoped>\n",
       "    .dataframe tbody tr th:only-of-type {\n",
       "        vertical-align: middle;\n",
       "    }\n",
       "\n",
       "    .dataframe tbody tr th {\n",
       "        vertical-align: top;\n",
       "    }\n",
       "\n",
       "    .dataframe thead th {\n",
       "        text-align: right;\n",
       "    }\n",
       "</style>\n",
       "<table border=\"1\" class=\"dataframe\">\n",
       "  <thead>\n",
       "    <tr style=\"text-align: right;\">\n",
       "      <th></th>\n",
       "      <th>VehicleID</th>\n",
       "      <th>Location</th>\n",
       "      <th>Maker</th>\n",
       "      <th>Model</th>\n",
       "      <th>Year</th>\n",
       "      <th>Colour</th>\n",
       "      <th>Amount (Million Naira)</th>\n",
       "      <th>Type</th>\n",
       "      <th>Distance</th>\n",
       "    </tr>\n",
       "  </thead>\n",
       "  <tbody>\n",
       "    <tr>\n",
       "      <th>0</th>\n",
       "      <td>VHL12546</td>\n",
       "      <td>Abuja</td>\n",
       "      <td>Honda</td>\n",
       "      <td>Accord Coupe EX V-6</td>\n",
       "      <td>2,011</td>\n",
       "      <td>Silver</td>\n",
       "      <td>2.2</td>\n",
       "      <td>Nigerian Used</td>\n",
       "      <td>NaN</td>\n",
       "    </tr>\n",
       "    <tr>\n",
       "      <th>1</th>\n",
       "      <td>VHL18827</td>\n",
       "      <td>Ibadan</td>\n",
       "      <td>Hyundai</td>\n",
       "      <td>Sonata</td>\n",
       "      <td>2,012</td>\n",
       "      <td>Silver</td>\n",
       "      <td>3.5</td>\n",
       "      <td>Nigerian Used</td>\n",
       "      <td>125,000</td>\n",
       "    </tr>\n",
       "    <tr>\n",
       "      <th>2</th>\n",
       "      <td>VHL19499</td>\n",
       "      <td>Lagos</td>\n",
       "      <td>Lexus</td>\n",
       "      <td>RX 350</td>\n",
       "      <td>2,010</td>\n",
       "      <td>Red</td>\n",
       "      <td>9.2</td>\n",
       "      <td>Foreign Used</td>\n",
       "      <td>110,852</td>\n",
       "    </tr>\n",
       "    <tr>\n",
       "      <th>3</th>\n",
       "      <td>VHL17991</td>\n",
       "      <td>Abuja</td>\n",
       "      <td>Mercedes-Benz</td>\n",
       "      <td>GLE-Class</td>\n",
       "      <td>2,017</td>\n",
       "      <td>Blue</td>\n",
       "      <td>22.8</td>\n",
       "      <td>Foreign Used</td>\n",
       "      <td>30,000</td>\n",
       "    </tr>\n",
       "    <tr>\n",
       "      <th>4</th>\n",
       "      <td>VHL12170</td>\n",
       "      <td>Ibadan</td>\n",
       "      <td>Toyota</td>\n",
       "      <td>Highlander</td>\n",
       "      <td>2,002</td>\n",
       "      <td>Red</td>\n",
       "      <td>2.6</td>\n",
       "      <td>Nigerian Used</td>\n",
       "      <td>125,206</td>\n",
       "    </tr>\n",
       "  </tbody>\n",
       "</table>\n",
       "</div>"
      ],
      "text/plain": [
       "  VehicleID Location          Maker                Model   Year  Colour  \\\n",
       "0  VHL12546    Abuja          Honda  Accord Coupe EX V-6  2,011  Silver   \n",
       "1  VHL18827   Ibadan        Hyundai               Sonata  2,012  Silver   \n",
       "2  VHL19499    Lagos          Lexus               RX 350  2,010     Red   \n",
       "3  VHL17991    Abuja  Mercedes-Benz            GLE-Class  2,017    Blue   \n",
       "4  VHL12170   Ibadan         Toyota           Highlander  2,002     Red   \n",
       "\n",
       "   Amount (Million Naira)           Type Distance  \n",
       "0                     2.2  Nigerian Used      NaN  \n",
       "1                     3.5  Nigerian Used  125,000  \n",
       "2                     9.2   Foreign Used  110,852  \n",
       "3                    22.8   Foreign Used   30,000  \n",
       "4                     2.6  Nigerian Used  125,206  "
      ]
     },
     "execution_count": 6,
     "metadata": {},
     "output_type": "execute_result"
    }
   ],
   "source": [
    "train.head()"
   ]
  },
  {
   "cell_type": "code",
   "execution_count": 7,
   "id": "f9cd30f9-1e93-4b28-bca0-7659cf311c75",
   "metadata": {
    "tags": []
   },
   "outputs": [
    {
     "name": "stdout",
     "output_type": "stream",
     "text": [
      "<class 'pandas.core.frame.DataFrame'>\n",
      "RangeIndex: 7205 entries, 0 to 7204\n",
      "Data columns (total 9 columns):\n",
      " #   Column                  Non-Null Count  Dtype  \n",
      "---  ------                  --------------  -----  \n",
      " 0   VehicleID               7205 non-null   object \n",
      " 1   Location                7205 non-null   object \n",
      " 2   Maker                   7205 non-null   object \n",
      " 3   Model                   7205 non-null   object \n",
      " 4   Year                    7184 non-null   object \n",
      " 5   Colour                  7205 non-null   object \n",
      " 6   Amount (Million Naira)  7188 non-null   float64\n",
      " 7   Type                    7008 non-null   object \n",
      " 8   Distance                4845 non-null   object \n",
      "dtypes: float64(1), object(8)\n",
      "memory usage: 506.7+ KB\n"
     ]
    }
   ],
   "source": [
    "#Exploratory Data\n",
    "train.info()"
   ]
  },
  {
   "cell_type": "code",
   "execution_count": 55,
   "id": "3f431b62-ccc2-4284-bee2-2c174743b6e6",
   "metadata": {
    "tags": []
   },
   "outputs": [
    {
     "data": {
      "text/html": [
       "<div>\n",
       "<style scoped>\n",
       "    .dataframe tbody tr th:only-of-type {\n",
       "        vertical-align: middle;\n",
       "    }\n",
       "\n",
       "    .dataframe tbody tr th {\n",
       "        vertical-align: top;\n",
       "    }\n",
       "\n",
       "    .dataframe thead th {\n",
       "        text-align: right;\n",
       "    }\n",
       "</style>\n",
       "<table border=\"1\" class=\"dataframe\">\n",
       "  <thead>\n",
       "    <tr style=\"text-align: right;\">\n",
       "      <th></th>\n",
       "      <th>Location</th>\n",
       "      <th>Maker</th>\n",
       "      <th>Type</th>\n",
       "      <th>Model</th>\n",
       "      <th>Year</th>\n",
       "      <th>Amount (Million Naira)</th>\n",
       "    </tr>\n",
       "  </thead>\n",
       "  <tbody>\n",
       "    <tr>\n",
       "      <th>0</th>\n",
       "      <td>Abuja</td>\n",
       "      <td>Honda</td>\n",
       "      <td>Nigerian Used</td>\n",
       "      <td>Accord Coupe EX V-6</td>\n",
       "      <td>2,011</td>\n",
       "      <td>2.2</td>\n",
       "    </tr>\n",
       "    <tr>\n",
       "      <th>1</th>\n",
       "      <td>Ibadan</td>\n",
       "      <td>Hyundai</td>\n",
       "      <td>Nigerian Used</td>\n",
       "      <td>Sonata</td>\n",
       "      <td>2,012</td>\n",
       "      <td>3.5</td>\n",
       "    </tr>\n",
       "    <tr>\n",
       "      <th>2</th>\n",
       "      <td>Lagos</td>\n",
       "      <td>Lexus</td>\n",
       "      <td>Foreign Used</td>\n",
       "      <td>RX 350</td>\n",
       "      <td>2,010</td>\n",
       "      <td>9.2</td>\n",
       "    </tr>\n",
       "    <tr>\n",
       "      <th>3</th>\n",
       "      <td>Abuja</td>\n",
       "      <td>Mercedes-Benz</td>\n",
       "      <td>Foreign Used</td>\n",
       "      <td>GLE-Class</td>\n",
       "      <td>2,017</td>\n",
       "      <td>22.8</td>\n",
       "    </tr>\n",
       "    <tr>\n",
       "      <th>4</th>\n",
       "      <td>Ibadan</td>\n",
       "      <td>Toyota</td>\n",
       "      <td>Nigerian Used</td>\n",
       "      <td>Highlander</td>\n",
       "      <td>2,002</td>\n",
       "      <td>2.6</td>\n",
       "    </tr>\n",
       "  </tbody>\n",
       "</table>\n",
       "</div>"
      ],
      "text/plain": [
       "  Location          Maker           Type                Model   Year  \\\n",
       "0    Abuja          Honda  Nigerian Used  Accord Coupe EX V-6  2,011   \n",
       "1   Ibadan        Hyundai  Nigerian Used               Sonata  2,012   \n",
       "2    Lagos          Lexus   Foreign Used               RX 350  2,010   \n",
       "3    Abuja  Mercedes-Benz   Foreign Used            GLE-Class  2,017   \n",
       "4   Ibadan         Toyota  Nigerian Used           Highlander  2,002   \n",
       "\n",
       "   Amount (Million Naira)  \n",
       "0                     2.2  \n",
       "1                     3.5  \n",
       "2                     9.2  \n",
       "3                    22.8  \n",
       "4                     2.6  "
      ]
     },
     "execution_count": 55,
     "metadata": {},
     "output_type": "execute_result"
    }
   ],
   "source": [
    "#feature eng\n",
    "train_red = train[['Location','Maker','Type','Model','Year','Amount (Million Naira)']]\n",
    "train_red.head()"
   ]
  },
  {
   "cell_type": "code",
   "execution_count": 56,
   "id": "57e0f507-2449-4ba9-994c-97790eb1669d",
   "metadata": {
    "tags": []
   },
   "outputs": [
    {
     "data": {
      "text/plain": [
       "Location                  False\n",
       "Maker                     False\n",
       "Type                      False\n",
       "Model                     False\n",
       "Year                      False\n",
       "Amount (Million Naira)    False\n",
       "dtype: bool"
      ]
     },
     "execution_count": 56,
     "metadata": {},
     "output_type": "execute_result"
    }
   ],
   "source": [
    "#Those code drops the null values in a dataset\n",
    "train_red.dropna(inplace=True)\n",
    "train_red.isna().any()"
   ]
  },
  {
   "cell_type": "code",
   "execution_count": 57,
   "id": "d7f2c181-fafb-4de5-bbb6-29297f4ae904",
   "metadata": {},
   "outputs": [
    {
     "name": "stdout",
     "output_type": "stream",
     "text": [
      "Location >>>>> 3\n",
      "Maker >>>>> 54\n",
      "Type >>>>> 3\n",
      "Model >>>>> 1180\n",
      "Year >>>>> 33\n",
      "Amount (Million Naira) >>>>> 679\n"
     ]
    }
   ],
   "source": [
    "for column in train_red.columns:\n",
    "    print(column,\">>>>>\",train_red[column].nunique())"
   ]
  },
  {
   "cell_type": "code",
   "execution_count": 58,
   "id": "d4ed8bc8-fbfc-4f4a-9d08-33f2fbe5f590",
   "metadata": {
    "tags": []
   },
   "outputs": [],
   "source": [
    "#Data PreProcessing\n",
    "from sklearn.feature_extraction.text import CountVectorizer\n",
    "from sklearn.model_selection import train_test_split,KFold\n",
    "from sklearn.preprocessing import LabelEncoder,PolynomialFeatures\n",
    "from sklearn.preprocessing import MinMaxScaler\n",
    "from sklearn.model_selection import train_test_split\n",
    "from sklearn.model_selection import StratifiedShuffleSplit"
   ]
  },
  {
   "cell_type": "code",
   "execution_count": 59,
   "id": "de7bea1b-5995-45a7-96aa-309a825059be",
   "metadata": {
    "tags": []
   },
   "outputs": [
    {
     "name": "stdout",
     "output_type": "stream",
     "text": [
      "<class 'pandas.core.frame.DataFrame'>\n",
      "Int64Index: 6972 entries, 0 to 7204\n",
      "Data columns (total 6 columns):\n",
      " #   Column                  Non-Null Count  Dtype  \n",
      "---  ------                  --------------  -----  \n",
      " 0   Location                6972 non-null   object \n",
      " 1   Maker                   6972 non-null   object \n",
      " 2   Type                    6972 non-null   object \n",
      " 3   Model                   6972 non-null   object \n",
      " 4   Year                    6972 non-null   object \n",
      " 5   Amount (Million Naira)  6972 non-null   float64\n",
      "dtypes: float64(1), object(5)\n",
      "memory usage: 381.3+ KB\n"
     ]
    }
   ],
   "source": [
    "train_red.info()"
   ]
  },
  {
   "cell_type": "code",
   "execution_count": 60,
   "id": "c837e190-6cf9-454b-b9cf-b58be6e16d74",
   "metadata": {
    "tags": []
   },
   "outputs": [],
   "source": [
    "cat_col = ['Maker','Model','Type']\n",
    "\n",
    "for col in cat_col:\n",
    "        lab = LabelEncoder()\n",
    "        lab.fit(train_red[col])\n",
    "        train_red[col] = lab.transform(train_red[col])"
   ]
  },
  {
   "cell_type": "code",
   "execution_count": 61,
   "id": "3e318a14-2a83-43d0-bcc4-2053503a5534",
   "metadata": {
    "tags": []
   },
   "outputs": [],
   "source": [
    "train_red['Year'] = train_red['Year'].str.replace(',','')"
   ]
  },
  {
   "cell_type": "code",
   "execution_count": 62,
   "id": "331f83bc-e708-493f-b628-a1a5cdfb6006",
   "metadata": {
    "tags": []
   },
   "outputs": [],
   "source": [
    "locat = pd.get_dummies(train_red['Location'],drop_first = True)"
   ]
  },
  {
   "cell_type": "code",
   "execution_count": 63,
   "id": "2c564bfa-a525-428a-84ca-55d806e46b21",
   "metadata": {
    "tags": []
   },
   "outputs": [
    {
     "data": {
      "text/html": [
       "<div>\n",
       "<style scoped>\n",
       "    .dataframe tbody tr th:only-of-type {\n",
       "        vertical-align: middle;\n",
       "    }\n",
       "\n",
       "    .dataframe tbody tr th {\n",
       "        vertical-align: top;\n",
       "    }\n",
       "\n",
       "    .dataframe thead th {\n",
       "        text-align: right;\n",
       "    }\n",
       "</style>\n",
       "<table border=\"1\" class=\"dataframe\">\n",
       "  <thead>\n",
       "    <tr style=\"text-align: right;\">\n",
       "      <th></th>\n",
       "      <th>Maker</th>\n",
       "      <th>Type</th>\n",
       "      <th>Model</th>\n",
       "      <th>Year</th>\n",
       "      <th>Amount (Million Naira)</th>\n",
       "      <th>Ibadan</th>\n",
       "      <th>Lagos</th>\n",
       "    </tr>\n",
       "  </thead>\n",
       "  <tbody>\n",
       "    <tr>\n",
       "      <th>2845</th>\n",
       "      <td>28</td>\n",
       "      <td>1</td>\n",
       "      <td>402</td>\n",
       "      <td>2008</td>\n",
       "      <td>4.55</td>\n",
       "      <td>0</td>\n",
       "      <td>1</td>\n",
       "    </tr>\n",
       "    <tr>\n",
       "      <th>1449</th>\n",
       "      <td>51</td>\n",
       "      <td>1</td>\n",
       "      <td>365</td>\n",
       "      <td>2004</td>\n",
       "      <td>2.65</td>\n",
       "      <td>0</td>\n",
       "      <td>0</td>\n",
       "    </tr>\n",
       "    <tr>\n",
       "      <th>3963</th>\n",
       "      <td>15</td>\n",
       "      <td>1</td>\n",
       "      <td>92</td>\n",
       "      <td>2010</td>\n",
       "      <td>5.50</td>\n",
       "      <td>0</td>\n",
       "      <td>1</td>\n",
       "    </tr>\n",
       "    <tr>\n",
       "      <th>4623</th>\n",
       "      <td>15</td>\n",
       "      <td>1</td>\n",
       "      <td>1169</td>\n",
       "      <td>2019</td>\n",
       "      <td>44.00</td>\n",
       "      <td>0</td>\n",
       "      <td>1</td>\n",
       "    </tr>\n",
       "    <tr>\n",
       "      <th>2289</th>\n",
       "      <td>33</td>\n",
       "      <td>1</td>\n",
       "      <td>385</td>\n",
       "      <td>2010</td>\n",
       "      <td>5.80</td>\n",
       "      <td>0</td>\n",
       "      <td>0</td>\n",
       "    </tr>\n",
       "    <tr>\n",
       "      <th>3507</th>\n",
       "      <td>28</td>\n",
       "      <td>1</td>\n",
       "      <td>402</td>\n",
       "      <td>2008</td>\n",
       "      <td>4.60</td>\n",
       "      <td>0</td>\n",
       "      <td>1</td>\n",
       "    </tr>\n",
       "    <tr>\n",
       "      <th>3690</th>\n",
       "      <td>33</td>\n",
       "      <td>1</td>\n",
       "      <td>708</td>\n",
       "      <td>2009</td>\n",
       "      <td>5.90</td>\n",
       "      <td>0</td>\n",
       "      <td>0</td>\n",
       "    </tr>\n",
       "    <tr>\n",
       "      <th>5436</th>\n",
       "      <td>16</td>\n",
       "      <td>1</td>\n",
       "      <td>139</td>\n",
       "      <td>2020</td>\n",
       "      <td>13.50</td>\n",
       "      <td>0</td>\n",
       "      <td>0</td>\n",
       "    </tr>\n",
       "    <tr>\n",
       "      <th>3747</th>\n",
       "      <td>28</td>\n",
       "      <td>1</td>\n",
       "      <td>402</td>\n",
       "      <td>2007</td>\n",
       "      <td>4.50</td>\n",
       "      <td>0</td>\n",
       "      <td>1</td>\n",
       "    </tr>\n",
       "    <tr>\n",
       "      <th>6060</th>\n",
       "      <td>51</td>\n",
       "      <td>1</td>\n",
       "      <td>1049</td>\n",
       "      <td>1999</td>\n",
       "      <td>3.40</td>\n",
       "      <td>0</td>\n",
       "      <td>1</td>\n",
       "    </tr>\n",
       "  </tbody>\n",
       "</table>\n",
       "</div>"
      ],
      "text/plain": [
       "      Maker  Type  Model  Year  Amount (Million Naira)  Ibadan  Lagos\n",
       "2845     28     1    402  2008                    4.55       0      1\n",
       "1449     51     1    365  2004                    2.65       0      0\n",
       "3963     15     1     92  2010                    5.50       0      1\n",
       "4623     15     1   1169  2019                   44.00       0      1\n",
       "2289     33     1    385  2010                    5.80       0      0\n",
       "3507     28     1    402  2008                    4.60       0      1\n",
       "3690     33     1    708  2009                    5.90       0      0\n",
       "5436     16     1    139  2020                   13.50       0      0\n",
       "3747     28     1    402  2007                    4.50       0      1\n",
       "6060     51     1   1049  1999                    3.40       0      1"
      ]
     },
     "execution_count": 63,
     "metadata": {},
     "output_type": "execute_result"
    }
   ],
   "source": [
    "all_data = pd.concat([train_red.drop(['Location'],axis=1),locat], axis=1).reset_index(drop = True)\n",
    "all_data.sample(10)"
   ]
  },
  {
   "cell_type": "code",
   "execution_count": 64,
   "id": "47e9b167-9d44-4a2e-9fd8-0c8179308348",
   "metadata": {
    "tags": []
   },
   "outputs": [],
   "source": [
    "features = all_data.drop('Amount (Million Naira)',axis=1)\n",
    "labels = train_red['Amount (Million Naira)']"
   ]
  },
  {
   "cell_type": "code",
   "execution_count": 65,
   "id": "b10b9006-93e8-4028-be4d-2a06141bd1a2",
   "metadata": {},
   "outputs": [],
   "source": [
    "random_state = 42\n",
    "X_train, X_test, y_train, y_test = train_test_split(features, labels, test_size=0.2, random_state=random_state)"
   ]
  },
  {
   "cell_type": "code",
   "execution_count": 66,
   "id": "000618ae-b03e-4db3-b985-c70f0bfead61",
   "metadata": {
    "tags": []
   },
   "outputs": [],
   "source": [
    "#Modelling\n",
    "from sklearn.tree import DecisionTreeRegressor\n",
    "from sklearn.ensemble import RandomForestRegressor, ExtraTreesRegressor, BaggingRegressor, VotingRegressor\n",
    "from sklearn.linear_model import LinearRegression,Lasso,Ridge"
   ]
  },
  {
   "cell_type": "code",
   "execution_count": 67,
   "id": "a3fec2b1-aeee-401b-8372-9afaa8ad45fe",
   "metadata": {
    "tags": []
   },
   "outputs": [
    {
     "name": "stdout",
     "output_type": "stream",
     "text": [
      "The model's Accuracy is 0.2651544404025463\n"
     ]
    }
   ],
   "source": [
    "model = LinearRegression()\n",
    "model.fit(X_train,y_train)\n",
    "Accuracy = model.score(X_test,y_test)\n",
    "print(f\"The model's Accuracy is {Accuracy}\")"
   ]
  },
  {
   "cell_type": "code",
   "execution_count": 68,
   "id": "51388937-f362-4eb8-9a66-d887c7d1ff5e",
   "metadata": {
    "tags": []
   },
   "outputs": [
    {
     "name": "stdout",
     "output_type": "stream",
     "text": [
      "The model's Accuracy is 0.787579601773709\n"
     ]
    }
   ],
   "source": [
    "model2 = DecisionTreeRegressor()\n",
    "model2.fit(X_train,y_train)\n",
    "Accuracy = model2.score(X_test,y_test)\n",
    "print(f\"The model's Accuracy is {Accuracy}\")"
   ]
  },
  {
   "cell_type": "code",
   "execution_count": 69,
   "id": "7783b001-a77b-4e55-bf70-577447317f76",
   "metadata": {
    "tags": []
   },
   "outputs": [
    {
     "name": "stdout",
     "output_type": "stream",
     "text": [
      "The model's Accuracy is 0.7727066303002809\n"
     ]
    }
   ],
   "source": [
    "model3 = RandomForestRegressor()\n",
    "model3.fit(X_train,y_train)\n",
    "Accuracy = model3.score(X_test,y_test)\n",
    "print(f\"The model's Accuracy is {Accuracy}\")"
   ]
  },
  {
   "cell_type": "code",
   "execution_count": 70,
   "id": "101b67d4-ad35-4e34-bd69-f5255cefdac1",
   "metadata": {
    "tags": []
   },
   "outputs": [
    {
     "name": "stdout",
     "output_type": "stream",
     "text": [
      "The model's Accuracy is 0.7531625832095591\n"
     ]
    }
   ],
   "source": [
    "model4 = ExtraTreesRegressor()\n",
    "model4.fit(X_train,y_train)\n",
    "Accuracy = model4.score(X_test,y_test)\n",
    "print(f\"The model's Accuracy is {Accuracy}\")"
   ]
  },
  {
   "cell_type": "code",
   "execution_count": 71,
   "id": "d9115d21-9493-47d8-bee8-e17246035d4e",
   "metadata": {
    "tags": []
   },
   "outputs": [
    {
     "name": "stdout",
     "output_type": "stream",
     "text": [
      "The model's Accuracy is 0.7756679124665795\n"
     ]
    }
   ],
   "source": [
    "model5 = BaggingRegressor()\n",
    "model5.fit(X_train,y_train)\n",
    "Accuracy = model5.score(X_test,y_test)\n",
    "print(f\"The model's Accuracy is {Accuracy}\")"
   ]
  },
  {
   "cell_type": "code",
   "execution_count": 72,
   "id": "dc2b9179-aced-4c24-857c-fe5c08a94f0f",
   "metadata": {
    "tags": []
   },
   "outputs": [
    {
     "data": {
      "text/plain": [
       "4029     5.50\n",
       "6147     3.26\n",
       "673     11.50\n",
       "33       2.40\n",
       "3172     3.35\n",
       "        ...  \n",
       "3891     6.00\n",
       "5362     1.24\n",
       "5397     2.25\n",
       "5564     7.50\n",
       "884     17.50\n",
       "Name: Amount (Million Naira), Length: 5577, dtype: float64"
      ]
     },
     "execution_count": 72,
     "metadata": {},
     "output_type": "execute_result"
    }
   ],
   "source": [
    "y_train"
   ]
  },
  {
   "cell_type": "code",
   "execution_count": 73,
   "id": "e7c36c40-b15e-4a05-900b-985c75b0b075",
   "metadata": {
    "tags": []
   },
   "outputs": [
    {
     "data": {
      "text/html": [
       "<div>\n",
       "<style scoped>\n",
       "    .dataframe tbody tr th:only-of-type {\n",
       "        vertical-align: middle;\n",
       "    }\n",
       "\n",
       "    .dataframe tbody tr th {\n",
       "        vertical-align: top;\n",
       "    }\n",
       "\n",
       "    .dataframe thead th {\n",
       "        text-align: right;\n",
       "    }\n",
       "</style>\n",
       "<table border=\"1\" class=\"dataframe\">\n",
       "  <thead>\n",
       "    <tr style=\"text-align: right;\">\n",
       "      <th></th>\n",
       "      <th>Maker</th>\n",
       "      <th>Type</th>\n",
       "      <th>Model</th>\n",
       "      <th>Year</th>\n",
       "      <th>Ibadan</th>\n",
       "      <th>Lagos</th>\n",
       "    </tr>\n",
       "  </thead>\n",
       "  <tbody>\n",
       "    <tr>\n",
       "      <th>132</th>\n",
       "      <td>28</td>\n",
       "      <td>1</td>\n",
       "      <td>881</td>\n",
       "      <td>2010</td>\n",
       "      <td>1</td>\n",
       "      <td>0</td>\n",
       "    </tr>\n",
       "    <tr>\n",
       "      <th>5571</th>\n",
       "      <td>16</td>\n",
       "      <td>2</td>\n",
       "      <td>115</td>\n",
       "      <td>2003</td>\n",
       "      <td>0</td>\n",
       "      <td>1</td>\n",
       "    </tr>\n",
       "    <tr>\n",
       "      <th>2168</th>\n",
       "      <td>16</td>\n",
       "      <td>2</td>\n",
       "      <td>97</td>\n",
       "      <td>2010</td>\n",
       "      <td>0</td>\n",
       "      <td>0</td>\n",
       "    </tr>\n",
       "    <tr>\n",
       "      <th>4086</th>\n",
       "      <td>32</td>\n",
       "      <td>2</td>\n",
       "      <td>252</td>\n",
       "      <td>2014</td>\n",
       "      <td>0</td>\n",
       "      <td>0</td>\n",
       "    </tr>\n",
       "    <tr>\n",
       "      <th>4787</th>\n",
       "      <td>51</td>\n",
       "      <td>2</td>\n",
       "      <td>547</td>\n",
       "      <td>2010</td>\n",
       "      <td>0</td>\n",
       "      <td>1</td>\n",
       "    </tr>\n",
       "  </tbody>\n",
       "</table>\n",
       "</div>"
      ],
      "text/plain": [
       "      Maker  Type  Model  Year  Ibadan  Lagos\n",
       "132      28     1    881  2010       1      0\n",
       "5571     16     2    115  2003       0      1\n",
       "2168     16     2     97  2010       0      0\n",
       "4086     32     2    252  2014       0      0\n",
       "4787     51     2    547  2010       0      1"
      ]
     },
     "execution_count": 73,
     "metadata": {},
     "output_type": "execute_result"
    }
   ],
   "source": [
    "#prediction\n",
    "X_test.head()"
   ]
  },
  {
   "cell_type": "code",
   "execution_count": 75,
   "id": "01fcd078-a85f-46eb-bfe1-9f16b2fd804a",
   "metadata": {
    "tags": []
   },
   "outputs": [
    {
     "data": {
      "text/html": [
       "<div>\n",
       "<style scoped>\n",
       "    .dataframe tbody tr th:only-of-type {\n",
       "        vertical-align: middle;\n",
       "    }\n",
       "\n",
       "    .dataframe tbody tr th {\n",
       "        vertical-align: top;\n",
       "    }\n",
       "\n",
       "    .dataframe thead th {\n",
       "        text-align: right;\n",
       "    }\n",
       "</style>\n",
       "<table border=\"1\" class=\"dataframe\">\n",
       "  <thead>\n",
       "    <tr style=\"text-align: right;\">\n",
       "      <th></th>\n",
       "      <th>Location</th>\n",
       "      <th>Maker</th>\n",
       "      <th>Type</th>\n",
       "      <th>Model</th>\n",
       "      <th>Year</th>\n",
       "      <th>Amount (Million Naira)</th>\n",
       "    </tr>\n",
       "  </thead>\n",
       "  <tbody>\n",
       "    <tr>\n",
       "      <th>0</th>\n",
       "      <td>Abuja</td>\n",
       "      <td>16</td>\n",
       "      <td>2</td>\n",
       "      <td>116</td>\n",
       "      <td>2011</td>\n",
       "      <td>2.2</td>\n",
       "    </tr>\n",
       "    <tr>\n",
       "      <th>1</th>\n",
       "      <td>Ibadan</td>\n",
       "      <td>18</td>\n",
       "      <td>2</td>\n",
       "      <td>1019</td>\n",
       "      <td>2012</td>\n",
       "      <td>3.5</td>\n",
       "    </tr>\n",
       "    <tr>\n",
       "      <th>2</th>\n",
       "      <td>Lagos</td>\n",
       "      <td>28</td>\n",
       "      <td>1</td>\n",
       "      <td>881</td>\n",
       "      <td>2010</td>\n",
       "      <td>9.2</td>\n",
       "    </tr>\n",
       "    <tr>\n",
       "      <th>3</th>\n",
       "      <td>Abuja</td>\n",
       "      <td>33</td>\n",
       "      <td>1</td>\n",
       "      <td>490</td>\n",
       "      <td>2017</td>\n",
       "      <td>22.8</td>\n",
       "    </tr>\n",
       "    <tr>\n",
       "      <th>4</th>\n",
       "      <td>Ibadan</td>\n",
       "      <td>51</td>\n",
       "      <td>2</td>\n",
       "      <td>548</td>\n",
       "      <td>2002</td>\n",
       "      <td>2.6</td>\n",
       "    </tr>\n",
       "  </tbody>\n",
       "</table>\n",
       "</div>"
      ],
      "text/plain": [
       "  Location  Maker  Type  Model  Year  Amount (Million Naira)\n",
       "0    Abuja     16     2    116  2011                     2.2\n",
       "1   Ibadan     18     2   1019  2012                     3.5\n",
       "2    Lagos     28     1    881  2010                     9.2\n",
       "3    Abuja     33     1    490  2017                    22.8\n",
       "4   Ibadan     51     2    548  2002                     2.6"
      ]
     },
     "execution_count": 75,
     "metadata": {},
     "output_type": "execute_result"
    }
   ],
   "source": [
    "train_red.head()"
   ]
  },
  {
   "cell_type": "code",
   "execution_count": 79,
   "id": "9241035f-3129-4e6c-b5fc-fbce86059cf8",
   "metadata": {
    "tags": []
   },
   "outputs": [
    {
     "name": "stdout",
     "output_type": "stream",
     "text": [
      "[2.2]\n"
     ]
    }
   ],
   "source": [
    "pred = model2.predict(np.array([[16,2,116,2011,15,0]]))\n",
    "print(pred)"
   ]
  },
  {
   "cell_type": "code",
   "execution_count": 80,
   "id": "aaa6a30a-8180-4951-bf7b-d25c67bad032",
   "metadata": {
    "tags": []
   },
   "outputs": [],
   "source": [
    "#how to save model\n",
    "import pickle #for small models\n",
    "import joblib #for large models"
   ]
  },
  {
   "cell_type": "code",
   "execution_count": 81,
   "id": "4273dd1a-ffcb-47b0-8e41-92876e8a878f",
   "metadata": {
    "tags": []
   },
   "outputs": [],
   "source": [
    "with open('model.pkl','wb')as model_file:\n",
    "    pickle.dump(model,model_file)"
   ]
  },
  {
   "cell_type": "code",
   "execution_count": 82,
   "id": "9e1f3290-d09a-4848-9baf-96a09ddac305",
   "metadata": {
    "tags": []
   },
   "outputs": [],
   "source": [
    "#loading model with pickle\n",
    "with open('model.pkl','rb')as model_file:\n",
    "    loaded_model = pickle.load(model_file)"
   ]
  },
  {
   "cell_type": "code",
   "execution_count": null,
   "id": "ae889131-df11-4524-b60a-f3fbdf02c4e4",
   "metadata": {},
   "outputs": [],
   "source": [
    "#joblib\n",
    "#dump(model,'model.joblib')\n",
    "#loaded = load('model.joblib')"
   ]
  }
 ],
 "metadata": {
  "kernelspec": {
   "display_name": "Python 3 (ipykernel)",
   "language": "python",
   "name": "python3"
  },
  "language_info": {
   "codemirror_mode": {
    "name": "ipython",
    "version": 3
   },
   "file_extension": ".py",
   "mimetype": "text/x-python",
   "name": "python",
   "nbconvert_exporter": "python",
   "pygments_lexer": "ipython3",
   "version": "3.11.4"
  }
 },
 "nbformat": 4,
 "nbformat_minor": 5
}
